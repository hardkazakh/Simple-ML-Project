{
 "cells": [
  {
   "cell_type": "markdown",
   "id": "5c21a956",
   "metadata": {},
   "source": [
    "<h1><center>Simple Linear and Logistic Regression Model"
   ]
  },
  {
   "cell_type": "markdown",
   "id": "2a05ec5d",
   "metadata": {},
   "source": [
    "1. Linear Regression\n",
    "2. Logistic Regression"
   ]
  },
  {
   "cell_type": "markdown",
   "id": "827646ea",
   "metadata": {},
   "source": [
    "## DATASET"
   ]
  },
  {
   "cell_type": "markdown",
   "id": "cbd1029f",
   "metadata": {},
   "source": [
    "I collected this dataset during my 2nd year of study, using the grades I received in **Data Wrangling and Visualization**. The dataset includes grades for 9 assignments, 2 quizzes, a midterm exam, attendance, a project, and bonus points.\n",
    "\n",
    "Evaluation criteria:\n",
    "\n",
    "1. Assigments - 20/100\n",
    "2. Quizzes - 20/100\n",
    "3. Midterm - 30/100\n",
    "4. Attendance - 10/100\n",
    "5. Project - 20/100\n",
    "6. Bonus points - 6/100 points"
   ]
  },
  {
   "cell_type": "markdown",
   "id": "e8bd1227",
   "metadata": {},
   "source": [
    "### Data Cleaning"
   ]
  },
  {
   "cell_type": "code",
   "execution_count": 47,
   "id": "a8490f85",
   "metadata": {},
   "outputs": [],
   "source": [
    "import pandas as pd\n",
    "import numpy as np\n",
    "import warnings as w\n",
    "w.filterwarnings('ignore')"
   ]
  },
  {
   "cell_type": "code",
   "execution_count": 48,
   "id": "36fa2c19",
   "metadata": {},
   "outputs": [
    {
     "data": {
      "text/html": [
       "<div>\n",
       "<style scoped>\n",
       "    .dataframe tbody tr th:only-of-type {\n",
       "        vertical-align: middle;\n",
       "    }\n",
       "\n",
       "    .dataframe tbody tr th {\n",
       "        vertical-align: top;\n",
       "    }\n",
       "\n",
       "    .dataframe thead th {\n",
       "        text-align: right;\n",
       "    }\n",
       "</style>\n",
       "<table border=\"1\" class=\"dataframe\">\n",
       "  <thead>\n",
       "    <tr style=\"text-align: right;\">\n",
       "      <th></th>\n",
       "      <th>id</th>\n",
       "      <th>student</th>\n",
       "      <th>attendance</th>\n",
       "      <th>assignment_1</th>\n",
       "      <th>assignment_2</th>\n",
       "      <th>assignment_3</th>\n",
       "      <th>assignment_4</th>\n",
       "      <th>assignment_5</th>\n",
       "      <th>assignment_6</th>\n",
       "      <th>assignment_7</th>\n",
       "      <th>...</th>\n",
       "      <th>assignment_9</th>\n",
       "      <th>assignments_total</th>\n",
       "      <th>bonus_task</th>\n",
       "      <th>quiz_1</th>\n",
       "      <th>quiz_2</th>\n",
       "      <th>midterm</th>\n",
       "      <th>prefinal_grade</th>\n",
       "      <th>project</th>\n",
       "      <th>final_grade</th>\n",
       "      <th>total_grade</th>\n",
       "    </tr>\n",
       "  </thead>\n",
       "  <tbody>\n",
       "    <tr>\n",
       "      <th>0</th>\n",
       "      <td>190109010</td>\n",
       "      <td>Ablay Kundyz</td>\n",
       "      <td>100</td>\n",
       "      <td>100</td>\n",
       "      <td>90</td>\n",
       "      <td>100</td>\n",
       "      <td>103.5</td>\n",
       "      <td>85</td>\n",
       "      <td>35</td>\n",
       "      <td>25</td>\n",
       "      <td>...</td>\n",
       "      <td>70</td>\n",
       "      <td>82.3125</td>\n",
       "      <td>1.0</td>\n",
       "      <td>85</td>\n",
       "      <td>85.0</td>\n",
       "      <td>85</td>\n",
       "      <td>51.4625</td>\n",
       "      <td>96.5</td>\n",
       "      <td>37.8</td>\n",
       "      <td>89.2625</td>\n",
       "    </tr>\n",
       "    <tr>\n",
       "      <th>1</th>\n",
       "      <td>190103130</td>\n",
       "      <td>Abzhanov Assylan</td>\n",
       "      <td>100</td>\n",
       "      <td>71</td>\n",
       "      <td>90</td>\n",
       "      <td>80</td>\n",
       "      <td>78.0</td>\n",
       "      <td>70</td>\n",
       "      <td>35</td>\n",
       "      <td>0</td>\n",
       "      <td>...</td>\n",
       "      <td>70</td>\n",
       "      <td>68.0000</td>\n",
       "      <td>0.0</td>\n",
       "      <td>65</td>\n",
       "      <td>100.0</td>\n",
       "      <td>42</td>\n",
       "      <td>32.7000</td>\n",
       "      <td>46.0</td>\n",
       "      <td>25.7</td>\n",
       "      <td>58.4000</td>\n",
       "    </tr>\n",
       "    <tr>\n",
       "      <th>2</th>\n",
       "      <td>190107021</td>\n",
       "      <td>Adil Dinassyl</td>\n",
       "      <td>93</td>\n",
       "      <td>43</td>\n",
       "      <td>100</td>\n",
       "      <td>0</td>\n",
       "      <td>0.0</td>\n",
       "      <td>0</td>\n",
       "      <td>0</td>\n",
       "      <td>0</td>\n",
       "      <td>...</td>\n",
       "      <td>0</td>\n",
       "      <td>17.8750</td>\n",
       "      <td>0.0</td>\n",
       "      <td>65</td>\n",
       "      <td>90.0</td>\n",
       "      <td>46</td>\n",
       "      <td>23.8750</td>\n",
       "      <td>45.5</td>\n",
       "      <td>24.9</td>\n",
       "      <td>48.7750</td>\n",
       "    </tr>\n",
       "    <tr>\n",
       "      <th>3</th>\n",
       "      <td>190109006</td>\n",
       "      <td>Aibolat Dilnaz</td>\n",
       "      <td>100</td>\n",
       "      <td>57</td>\n",
       "      <td>90</td>\n",
       "      <td>100</td>\n",
       "      <td>70.0</td>\n",
       "      <td>80</td>\n",
       "      <td>50</td>\n",
       "      <td>0</td>\n",
       "      <td>...</td>\n",
       "      <td>0</td>\n",
       "      <td>62.1250</td>\n",
       "      <td>2.5</td>\n",
       "      <td>80</td>\n",
       "      <td>80.0</td>\n",
       "      <td>77</td>\n",
       "      <td>46.0250</td>\n",
       "      <td>97.5</td>\n",
       "      <td>37.5</td>\n",
       "      <td>83.5250</td>\n",
       "    </tr>\n",
       "    <tr>\n",
       "      <th>4</th>\n",
       "      <td>190109014</td>\n",
       "      <td>Aitu Nursaule</td>\n",
       "      <td>100</td>\n",
       "      <td>71</td>\n",
       "      <td>70</td>\n",
       "      <td>70</td>\n",
       "      <td>70.0</td>\n",
       "      <td>10</td>\n",
       "      <td>35</td>\n",
       "      <td>50</td>\n",
       "      <td>...</td>\n",
       "      <td>10</td>\n",
       "      <td>48.2500</td>\n",
       "      <td>0.0</td>\n",
       "      <td>78</td>\n",
       "      <td>85.0</td>\n",
       "      <td>50</td>\n",
       "      <td>32.4500</td>\n",
       "      <td>69.5</td>\n",
       "      <td>31.7</td>\n",
       "      <td>64.1500</td>\n",
       "    </tr>\n",
       "  </tbody>\n",
       "</table>\n",
       "<p>5 rows × 21 columns</p>\n",
       "</div>"
      ],
      "text/plain": [
       "          id           student  attendance  assignment_1  assignment_2  \\\n",
       "0  190109010      Ablay Kundyz         100           100            90   \n",
       "1  190103130  Abzhanov Assylan         100            71            90   \n",
       "2  190107021     Adil Dinassyl          93            43           100   \n",
       "3  190109006    Aibolat Dilnaz         100            57            90   \n",
       "4  190109014     Aitu Nursaule         100            71            70   \n",
       "\n",
       "   assignment_3  assignment_4  assignment_5  assignment_6  assignment_7  ...  \\\n",
       "0           100         103.5            85            35            25  ...   \n",
       "1            80          78.0            70            35             0  ...   \n",
       "2             0           0.0             0             0             0  ...   \n",
       "3           100          70.0            80            50             0  ...   \n",
       "4            70          70.0            10            35            50  ...   \n",
       "\n",
       "   assignment_9  assignments_total  bonus_task  quiz_1  quiz_2  midterm  \\\n",
       "0            70            82.3125         1.0      85    85.0       85   \n",
       "1            70            68.0000         0.0      65   100.0       42   \n",
       "2             0            17.8750         0.0      65    90.0       46   \n",
       "3             0            62.1250         2.5      80    80.0       77   \n",
       "4            10            48.2500         0.0      78    85.0       50   \n",
       "\n",
       "   prefinal_grade  project  final_grade  total_grade  \n",
       "0         51.4625     96.5         37.8      89.2625  \n",
       "1         32.7000     46.0         25.7      58.4000  \n",
       "2         23.8750     45.5         24.9      48.7750  \n",
       "3         46.0250     97.5         37.5      83.5250  \n",
       "4         32.4500     69.5         31.7      64.1500  \n",
       "\n",
       "[5 rows x 21 columns]"
      ]
     },
     "execution_count": 48,
     "metadata": {},
     "output_type": "execute_result"
    }
   ],
   "source": [
    "df = pd.read_excel(\"mcm_grades.xlsx\")\n",
    "df.head()"
   ]
  },
  {
   "cell_type": "code",
   "execution_count": 49,
   "id": "7d5fa8f0",
   "metadata": {},
   "outputs": [
    {
     "data": {
      "text/plain": [
       "(34, 21)"
      ]
     },
     "execution_count": 49,
     "metadata": {},
     "output_type": "execute_result"
    }
   ],
   "source": [
    "df.shape"
   ]
  },
  {
   "cell_type": "code",
   "execution_count": 50,
   "id": "87395410",
   "metadata": {},
   "outputs": [
    {
     "name": "stdout",
     "output_type": "stream",
     "text": [
      "<class 'pandas.core.frame.DataFrame'>\n",
      "RangeIndex: 34 entries, 0 to 33\n",
      "Data columns (total 21 columns):\n",
      " #   Column             Non-Null Count  Dtype  \n",
      "---  ------             --------------  -----  \n",
      " 0   id                 34 non-null     int64  \n",
      " 1   student            34 non-null     object \n",
      " 2   attendance         34 non-null     int64  \n",
      " 3   assignment_1       34 non-null     int64  \n",
      " 4   assignment_2       34 non-null     int64  \n",
      " 5   assignment_3       34 non-null     int64  \n",
      " 6   assignment_4       34 non-null     float64\n",
      " 7   assignment_5       34 non-null     int64  \n",
      " 8   assignment_6       34 non-null     int64  \n",
      " 9   assignment_7       34 non-null     int64  \n",
      " 10  assignment_8       34 non-null     float64\n",
      " 11  assignment_9       34 non-null     int64  \n",
      " 12  assignments_total  34 non-null     float64\n",
      " 13  bonus_task         34 non-null     float64\n",
      " 14  quiz_1             34 non-null     int64  \n",
      " 15  quiz_2             34 non-null     float64\n",
      " 16  midterm            34 non-null     int64  \n",
      " 17  prefinal_grade     34 non-null     float64\n",
      " 18  project            34 non-null     float64\n",
      " 19  final_grade        34 non-null     float64\n",
      " 20  total_grade        34 non-null     float64\n",
      "dtypes: float64(9), int64(11), object(1)\n",
      "memory usage: 5.7+ KB\n"
     ]
    }
   ],
   "source": [
    "df.info()"
   ]
  },
  {
   "cell_type": "code",
   "execution_count": 51,
   "id": "8f6c2c1e",
   "metadata": {},
   "outputs": [
    {
     "data": {
      "text/html": [
       "<div>\n",
       "<style scoped>\n",
       "    .dataframe tbody tr th:only-of-type {\n",
       "        vertical-align: middle;\n",
       "    }\n",
       "\n",
       "    .dataframe tbody tr th {\n",
       "        vertical-align: top;\n",
       "    }\n",
       "\n",
       "    .dataframe thead th {\n",
       "        text-align: right;\n",
       "    }\n",
       "</style>\n",
       "<table border=\"1\" class=\"dataframe\">\n",
       "  <thead>\n",
       "    <tr style=\"text-align: right;\">\n",
       "      <th></th>\n",
       "      <th>id</th>\n",
       "      <th>attendance</th>\n",
       "      <th>assignment_1</th>\n",
       "      <th>assignment_2</th>\n",
       "      <th>assignment_3</th>\n",
       "      <th>assignment_4</th>\n",
       "      <th>assignment_5</th>\n",
       "      <th>assignment_6</th>\n",
       "      <th>assignment_7</th>\n",
       "      <th>assignment_8</th>\n",
       "      <th>assignment_9</th>\n",
       "      <th>assignments_total</th>\n",
       "      <th>bonus_task</th>\n",
       "      <th>quiz_1</th>\n",
       "      <th>quiz_2</th>\n",
       "      <th>midterm</th>\n",
       "      <th>prefinal_grade</th>\n",
       "      <th>project</th>\n",
       "      <th>final_grade</th>\n",
       "      <th>total_grade</th>\n",
       "    </tr>\n",
       "  </thead>\n",
       "  <tbody>\n",
       "    <tr>\n",
       "      <th>count</th>\n",
       "      <td>3.400000e+01</td>\n",
       "      <td>34.000000</td>\n",
       "      <td>34.000000</td>\n",
       "      <td>34.000000</td>\n",
       "      <td>34.000000</td>\n",
       "      <td>34.000000</td>\n",
       "      <td>34.000000</td>\n",
       "      <td>34.000000</td>\n",
       "      <td>34.000000</td>\n",
       "      <td>34.000000</td>\n",
       "      <td>34.000000</td>\n",
       "      <td>34.000000</td>\n",
       "      <td>34.000000</td>\n",
       "      <td>34.000000</td>\n",
       "      <td>34.000000</td>\n",
       "      <td>34.000000</td>\n",
       "      <td>34.000000</td>\n",
       "      <td>34.000000</td>\n",
       "      <td>34.000000</td>\n",
       "      <td>34.000000</td>\n",
       "    </tr>\n",
       "    <tr>\n",
       "      <th>mean</th>\n",
       "      <td>1.901059e+08</td>\n",
       "      <td>90.705882</td>\n",
       "      <td>68.647059</td>\n",
       "      <td>79.264706</td>\n",
       "      <td>68.617647</td>\n",
       "      <td>66.070588</td>\n",
       "      <td>71.058824</td>\n",
       "      <td>45.735294</td>\n",
       "      <td>67.794118</td>\n",
       "      <td>49.926471</td>\n",
       "      <td>31.029412</td>\n",
       "      <td>68.518015</td>\n",
       "      <td>1.338235</td>\n",
       "      <td>81.617647</td>\n",
       "      <td>82.205882</td>\n",
       "      <td>67.705882</td>\n",
       "      <td>43.385221</td>\n",
       "      <td>75.485294</td>\n",
       "      <td>32.300000</td>\n",
       "      <td>75.685221</td>\n",
       "    </tr>\n",
       "    <tr>\n",
       "      <th>std</th>\n",
       "      <td>3.028804e+03</td>\n",
       "      <td>24.015815</td>\n",
       "      <td>34.618162</td>\n",
       "      <td>31.983243</td>\n",
       "      <td>36.107596</td>\n",
       "      <td>32.634189</td>\n",
       "      <td>31.983842</td>\n",
       "      <td>36.621164</td>\n",
       "      <td>57.527216</td>\n",
       "      <td>30.664888</td>\n",
       "      <td>35.200280</td>\n",
       "      <td>29.066536</td>\n",
       "      <td>2.036488</td>\n",
       "      <td>24.701877</td>\n",
       "      <td>24.554861</td>\n",
       "      <td>28.119366</td>\n",
       "      <td>15.657030</td>\n",
       "      <td>24.643745</td>\n",
       "      <td>8.124178</td>\n",
       "      <td>22.605969</td>\n",
       "    </tr>\n",
       "    <tr>\n",
       "      <th>min</th>\n",
       "      <td>1.901030e+08</td>\n",
       "      <td>0.000000</td>\n",
       "      <td>0.000000</td>\n",
       "      <td>0.000000</td>\n",
       "      <td>0.000000</td>\n",
       "      <td>0.000000</td>\n",
       "      <td>0.000000</td>\n",
       "      <td>0.000000</td>\n",
       "      <td>0.000000</td>\n",
       "      <td>0.000000</td>\n",
       "      <td>0.000000</td>\n",
       "      <td>0.000000</td>\n",
       "      <td>0.000000</td>\n",
       "      <td>0.000000</td>\n",
       "      <td>0.000000</td>\n",
       "      <td>0.000000</td>\n",
       "      <td>0.000000</td>\n",
       "      <td>0.000000</td>\n",
       "      <td>0.000000</td>\n",
       "      <td>0.000000</td>\n",
       "    </tr>\n",
       "    <tr>\n",
       "      <th>25%</th>\n",
       "      <td>1.901032e+08</td>\n",
       "      <td>93.000000</td>\n",
       "      <td>57.000000</td>\n",
       "      <td>70.000000</td>\n",
       "      <td>57.250000</td>\n",
       "      <td>51.075000</td>\n",
       "      <td>70.000000</td>\n",
       "      <td>8.750000</td>\n",
       "      <td>0.000000</td>\n",
       "      <td>50.000000</td>\n",
       "      <td>0.000000</td>\n",
       "      <td>52.975000</td>\n",
       "      <td>0.000000</td>\n",
       "      <td>75.750000</td>\n",
       "      <td>80.000000</td>\n",
       "      <td>47.750000</td>\n",
       "      <td>33.065313</td>\n",
       "      <td>73.875000</td>\n",
       "      <td>30.800000</td>\n",
       "      <td>66.130938</td>\n",
       "    </tr>\n",
       "    <tr>\n",
       "      <th>50%</th>\n",
       "      <td>1.901033e+08</td>\n",
       "      <td>100.000000</td>\n",
       "      <td>86.000000</td>\n",
       "      <td>92.500000</td>\n",
       "      <td>80.000000</td>\n",
       "      <td>68.500000</td>\n",
       "      <td>80.000000</td>\n",
       "      <td>35.000000</td>\n",
       "      <td>60.000000</td>\n",
       "      <td>50.000000</td>\n",
       "      <td>5.000000</td>\n",
       "      <td>74.250000</td>\n",
       "      <td>0.000000</td>\n",
       "      <td>85.000000</td>\n",
       "      <td>90.000000</td>\n",
       "      <td>79.000000</td>\n",
       "      <td>47.820625</td>\n",
       "      <td>80.875000</td>\n",
       "      <td>35.150000</td>\n",
       "      <td>82.762500</td>\n",
       "    </tr>\n",
       "    <tr>\n",
       "      <th>75%</th>\n",
       "      <td>1.901090e+08</td>\n",
       "      <td>100.000000</td>\n",
       "      <td>98.750000</td>\n",
       "      <td>100.000000</td>\n",
       "      <td>100.000000</td>\n",
       "      <td>88.787500</td>\n",
       "      <td>93.750000</td>\n",
       "      <td>70.000000</td>\n",
       "      <td>100.000000</td>\n",
       "      <td>70.000000</td>\n",
       "      <td>70.000000</td>\n",
       "      <td>87.528125</td>\n",
       "      <td>2.000000</td>\n",
       "      <td>95.000000</td>\n",
       "      <td>96.875000</td>\n",
       "      <td>86.500000</td>\n",
       "      <td>53.537500</td>\n",
       "      <td>91.500000</td>\n",
       "      <td>37.050000</td>\n",
       "      <td>90.442813</td>\n",
       "    </tr>\n",
       "    <tr>\n",
       "      <th>max</th>\n",
       "      <td>1.901130e+08</td>\n",
       "      <td>100.000000</td>\n",
       "      <td>100.000000</td>\n",
       "      <td>100.000000</td>\n",
       "      <td>100.000000</td>\n",
       "      <td>120.000000</td>\n",
       "      <td>100.000000</td>\n",
       "      <td>100.000000</td>\n",
       "      <td>150.000000</td>\n",
       "      <td>100.000000</td>\n",
       "      <td>100.000000</td>\n",
       "      <td>117.125000</td>\n",
       "      <td>6.000000</td>\n",
       "      <td>110.000000</td>\n",
       "      <td>100.000000</td>\n",
       "      <td>98.000000</td>\n",
       "      <td>60.000000</td>\n",
       "      <td>100.000000</td>\n",
       "      <td>40.000000</td>\n",
       "      <td>100.000000</td>\n",
       "    </tr>\n",
       "  </tbody>\n",
       "</table>\n",
       "</div>"
      ],
      "text/plain": [
       "                 id  attendance  assignment_1  assignment_2  assignment_3  \\\n",
       "count  3.400000e+01   34.000000     34.000000     34.000000     34.000000   \n",
       "mean   1.901059e+08   90.705882     68.647059     79.264706     68.617647   \n",
       "std    3.028804e+03   24.015815     34.618162     31.983243     36.107596   \n",
       "min    1.901030e+08    0.000000      0.000000      0.000000      0.000000   \n",
       "25%    1.901032e+08   93.000000     57.000000     70.000000     57.250000   \n",
       "50%    1.901033e+08  100.000000     86.000000     92.500000     80.000000   \n",
       "75%    1.901090e+08  100.000000     98.750000    100.000000    100.000000   \n",
       "max    1.901130e+08  100.000000    100.000000    100.000000    100.000000   \n",
       "\n",
       "       assignment_4  assignment_5  assignment_6  assignment_7  assignment_8  \\\n",
       "count     34.000000     34.000000     34.000000     34.000000     34.000000   \n",
       "mean      66.070588     71.058824     45.735294     67.794118     49.926471   \n",
       "std       32.634189     31.983842     36.621164     57.527216     30.664888   \n",
       "min        0.000000      0.000000      0.000000      0.000000      0.000000   \n",
       "25%       51.075000     70.000000      8.750000      0.000000     50.000000   \n",
       "50%       68.500000     80.000000     35.000000     60.000000     50.000000   \n",
       "75%       88.787500     93.750000     70.000000    100.000000     70.000000   \n",
       "max      120.000000    100.000000    100.000000    150.000000    100.000000   \n",
       "\n",
       "       assignment_9  assignments_total  bonus_task      quiz_1      quiz_2  \\\n",
       "count     34.000000          34.000000   34.000000   34.000000   34.000000   \n",
       "mean      31.029412          68.518015    1.338235   81.617647   82.205882   \n",
       "std       35.200280          29.066536    2.036488   24.701877   24.554861   \n",
       "min        0.000000           0.000000    0.000000    0.000000    0.000000   \n",
       "25%        0.000000          52.975000    0.000000   75.750000   80.000000   \n",
       "50%        5.000000          74.250000    0.000000   85.000000   90.000000   \n",
       "75%       70.000000          87.528125    2.000000   95.000000   96.875000   \n",
       "max      100.000000         117.125000    6.000000  110.000000  100.000000   \n",
       "\n",
       "         midterm  prefinal_grade     project  final_grade  total_grade  \n",
       "count  34.000000       34.000000   34.000000    34.000000    34.000000  \n",
       "mean   67.705882       43.385221   75.485294    32.300000    75.685221  \n",
       "std    28.119366       15.657030   24.643745     8.124178    22.605969  \n",
       "min     0.000000        0.000000    0.000000     0.000000     0.000000  \n",
       "25%    47.750000       33.065313   73.875000    30.800000    66.130938  \n",
       "50%    79.000000       47.820625   80.875000    35.150000    82.762500  \n",
       "75%    86.500000       53.537500   91.500000    37.050000    90.442813  \n",
       "max    98.000000       60.000000  100.000000    40.000000   100.000000  "
      ]
     },
     "execution_count": 51,
     "metadata": {},
     "output_type": "execute_result"
    }
   ],
   "source": [
    "df.describe()"
   ]
  },
  {
   "cell_type": "code",
   "execution_count": 52,
   "id": "db96707e",
   "metadata": {},
   "outputs": [],
   "source": [
    "# Convert float to integer columns\n",
    "for i in df.columns:\n",
    "    if df[str(i)].dtype == 'float64':\n",
    "        df[str(i)] = df[str(i)].apply(np.int64)"
   ]
  },
  {
   "cell_type": "code",
   "execution_count": 53,
   "id": "2410a8a2",
   "metadata": {},
   "outputs": [
    {
     "data": {
      "text/plain": [
       "id                   0\n",
       "student              0\n",
       "attendance           0\n",
       "assignment_1         0\n",
       "assignment_2         0\n",
       "assignment_3         0\n",
       "assignment_4         0\n",
       "assignment_5         0\n",
       "assignment_6         0\n",
       "assignment_7         0\n",
       "assignment_8         0\n",
       "assignment_9         0\n",
       "assignments_total    0\n",
       "bonus_task           0\n",
       "quiz_1               0\n",
       "quiz_2               0\n",
       "midterm              0\n",
       "prefinal_grade       0\n",
       "project              0\n",
       "final_grade          0\n",
       "total_grade          0\n",
       "dtype: int64"
      ]
     },
     "execution_count": 53,
     "metadata": {},
     "output_type": "execute_result"
    }
   ],
   "source": [
    "# Check missing values\n",
    "df.isna().sum()"
   ]
  },
  {
   "cell_type": "code",
   "execution_count": 54,
   "id": "d07670f2",
   "metadata": {},
   "outputs": [
    {
     "data": {
      "text/plain": [
       "Index(['id', 'student', 'attendance', 'assignment_1', 'assignment_2',\n",
       "       'assignment_3', 'assignment_4', 'assignment_5', 'assignment_6',\n",
       "       'assignment_7', 'assignment_8', 'assignment_9', 'assignments_total',\n",
       "       'bonus_task', 'quiz_1', 'quiz_2', 'midterm', 'prefinal_grade',\n",
       "       'project', 'final_grade', 'total_grade'],\n",
       "      dtype='object')"
      ]
     },
     "execution_count": 54,
     "metadata": {},
     "output_type": "execute_result"
    }
   ],
   "source": [
    "# All columns\n",
    "df.columns"
   ]
  },
  {
   "cell_type": "markdown",
   "id": "b33c5985",
   "metadata": {},
   "source": [
    "### Preparation inputs and outputs for ML"
   ]
  },
  {
   "cell_type": "code",
   "execution_count": 55,
   "id": "7cf59ab1",
   "metadata": {},
   "outputs": [],
   "source": [
    "# define X and y\n",
    "X = df.drop(['id', 'student', 'assignments_total', 'prefinal_grade', 'final_grade', 'total_grade'], axis=1).values.reshape(-1, 15)\n",
    "y = df['total_grade']"
   ]
  },
  {
   "cell_type": "code",
   "execution_count": 56,
   "id": "959e5697",
   "metadata": {},
   "outputs": [],
   "source": [
    "from sklearn.model_selection import train_test_split"
   ]
  },
  {
   "cell_type": "code",
   "execution_count": 57,
   "id": "0d102fe1",
   "metadata": {},
   "outputs": [],
   "source": [
    "# determine training and testing sets\n",
    "X_train, X_test, y_train, y_test = train_test_split(X, y, test_size=0.3)"
   ]
  },
  {
   "cell_type": "code",
   "execution_count": 58,
   "id": "4fbef5ae",
   "metadata": {},
   "outputs": [
    {
     "data": {
      "text/plain": [
       "(23, 15)"
      ]
     },
     "execution_count": 58,
     "metadata": {},
     "output_type": "execute_result"
    }
   ],
   "source": [
    "# input shape\n",
    "X_train.shape"
   ]
  },
  {
   "cell_type": "code",
   "execution_count": 59,
   "id": "0a990871",
   "metadata": {},
   "outputs": [
    {
     "data": {
      "text/plain": [
       "(23,)"
      ]
     },
     "execution_count": 59,
     "metadata": {},
     "output_type": "execute_result"
    }
   ],
   "source": [
    "# output shape\n",
    "y_train.shape"
   ]
  },
  {
   "cell_type": "markdown",
   "id": "c3e70d76",
   "metadata": {},
   "source": [
    "<h1><center>1. Linear Regression"
   ]
  },
  {
   "cell_type": "code",
   "execution_count": 60,
   "id": "558c86d7",
   "metadata": {},
   "outputs": [],
   "source": [
    "from sklearn.linear_model import LinearRegression\n",
    "from sklearn.metrics import mean_absolute_error,r2_score,mean_squared_error"
   ]
  },
  {
   "cell_type": "code",
   "execution_count": 61,
   "id": "87a9eb1b",
   "metadata": {},
   "outputs": [],
   "source": [
    "# fitting and predicting liner regression model\n",
    "linreg = LinearRegression()\n",
    "linreg.fit(X_train, y_train)\n",
    "y_pred = linreg.predict(X_test)"
   ]
  },
  {
   "cell_type": "code",
   "execution_count": 62,
   "id": "722bd103",
   "metadata": {},
   "outputs": [],
   "source": [
    "# create error function for model\n",
    "def run_experiment(model):\n",
    "    print(\"R^2 : \", r2_score(y_test, y_pred))\n",
    "    print(\"MAE :\", mean_absolute_error(y_test,y_pred))\n",
    "    print(\"RMSE:\",np.sqrt(mean_squared_error(y_test, y_pred)))"
   ]
  },
  {
   "cell_type": "code",
   "execution_count": 63,
   "id": "af91e19b",
   "metadata": {},
   "outputs": [
    {
     "name": "stdout",
     "output_type": "stream",
     "text": [
      "R^2 :  0.9989049265961034\n",
      "MAE : 0.4857967412015366\n",
      "RMSE: 0.5488741555092939\n"
     ]
    }
   ],
   "source": [
    "# experimential results\n",
    "run_experiment(linreg)"
   ]
  },
  {
   "cell_type": "code",
   "execution_count": 66,
   "id": "2ff2f3a5",
   "metadata": {},
   "outputs": [
    {
     "data": {
      "text/plain": [
       "(array([81.69433984, 71.48337034, 85.16156797, 93.76503698, 48.67017463]),\n",
       " array([82, 71, 86, 94, 48], dtype=int64))"
      ]
     },
     "execution_count": 66,
     "metadata": {},
     "output_type": "execute_result"
    }
   ],
   "source": [
    "linreg.predict(X_test[:5]), np.array(y_test[:5])"
   ]
  },
  {
   "cell_type": "markdown",
   "id": "312b58b8",
   "metadata": {},
   "source": [
    "### Visualization"
   ]
  },
  {
   "cell_type": "code",
   "execution_count": 18,
   "id": "f3c77771",
   "metadata": {},
   "outputs": [],
   "source": [
    "import matplotlib.pyplot as plt"
   ]
  },
  {
   "cell_type": "code",
   "execution_count": 19,
   "id": "f4dece39",
   "metadata": {},
   "outputs": [
    {
     "data": {
      "image/png": "[encoded data removed]",
      "text/plain": [
       "<Figure size 500x400 with 1 Axes>"
      ]
     },
     "metadata": {},
     "output_type": "display_data"
    }
   ],
   "source": [
    "# Model Visualization with matplotlib\n",
    "plt.figure(figsize=(5, 4))\n",
    "plt.scatter(y_test, y_pred)\n",
    "plt.plot(np.linspace(min(y_test), max(y_test)), np.linspace(min(y_test), max(y_test)))\n",
    "plt.title(\"Linear Regression model\")\n",
    "plt.show()"
   ]
  },
  {
   "cell_type": "markdown",
   "id": "c96b90c0",
   "metadata": {},
   "source": [
    "<h1><center>2. Logistic Regression"
   ]
  },
  {
   "cell_type": "code",
   "execution_count": 69,
   "id": "c39818e6",
   "metadata": {},
   "outputs": [],
   "source": [
    "# Create new column for classification\n",
    "level = []\n",
    "for i in df['total_grade']:\n",
    "    if 100 >= i >= 90:\n",
    "        level.append('Excellent')\n",
    "    elif 89 >= i >= 70:\n",
    "        level.append('Good')\n",
    "    elif 69 >= i >= 50:\n",
    "        level.append('Satisfactory')\n",
    "    elif i < 50:\n",
    "        level.append('Unsatisfactory')"
   ]
  },
  {
   "cell_type": "code",
   "execution_count": 70,
   "id": "ffe9de74",
   "metadata": {},
   "outputs": [
    {
     "data": {
      "text/plain": [
       "0              Good\n",
       "1      Satisfactory\n",
       "2    Unsatisfactory\n",
       "Name: level, dtype: object"
      ]
     },
     "execution_count": 70,
     "metadata": {},
     "output_type": "execute_result"
    }
   ],
   "source": [
    "# Add level column to the dataframe\n",
    "df['level'] = level\n",
    "df['level'][:3]"
   ]
  },
  {
   "cell_type": "markdown",
   "id": "24767dec",
   "metadata": {},
   "source": [
    "### Convert to categorical data"
   ]
  },
  {
   "cell_type": "code",
   "execution_count": 71,
   "id": "f0bb2fa0",
   "metadata": {},
   "outputs": [],
   "source": [
    "from sklearn.preprocessing import LabelEncoder"
   ]
  },
  {
   "cell_type": "code",
   "execution_count": 72,
   "id": "c82041ef",
   "metadata": {},
   "outputs": [
    {
     "data": {
      "text/plain": [
       "0    1\n",
       "1    2\n",
       "2    3\n",
       "3    1\n",
       "4    2\n",
       "Name: level, dtype: int32"
      ]
     },
     "execution_count": 72,
     "metadata": {},
     "output_type": "execute_result"
    }
   ],
   "source": [
    "# convert categorical data using LabelEncoder\n",
    "le = LabelEncoder()\n",
    "df['level'] = le.fit_transform(df['level'])\n",
    "df['level'][:5]"
   ]
  },
  {
   "cell_type": "code",
   "execution_count": 73,
   "id": "7a36a7a6",
   "metadata": {},
   "outputs": [],
   "source": [
    "# create new input and output values\n",
    "X_new = X\n",
    "y_new = df['level']"
   ]
  },
  {
   "cell_type": "code",
   "execution_count": 74,
   "id": "d69cf0e1",
   "metadata": {},
   "outputs": [],
   "source": [
    "X_train_new, X_test_new, y_train_new, y_test_new = train_test_split(X_new, y_new, test_size=0.3)"
   ]
  },
  {
   "cell_type": "code",
   "execution_count": 75,
   "id": "e6ebe457",
   "metadata": {},
   "outputs": [],
   "source": [
    "from sklearn.linear_model import LogisticRegression"
   ]
  },
  {
   "cell_type": "code",
   "execution_count": 76,
   "id": "e4849878",
   "metadata": {},
   "outputs": [
    {
     "data": {
      "text/plain": [
       "0.0"
      ]
     },
     "execution_count": 76,
     "metadata": {},
     "output_type": "execute_result"
    }
   ],
   "source": [
    "# create logistic regression model\n",
    "logreg = LogisticRegression()\n",
    "logreg.fit(X_train_new, y_train_new)\n",
    "logreg.score(X_test, y_test)"
   ]
  },
  {
   "cell_type": "code",
   "execution_count": 78,
   "id": "3293f468",
   "metadata": {},
   "outputs": [
    {
     "data": {
      "text/plain": [
       "(array([1, 0, 1, 0, 1, 1, 3, 1, 1, 2, 0]),\n",
       " array([1, 0, 2, 0, 1, 1, 3, 1, 2, 1, 1]))"
      ]
     },
     "execution_count": 78,
     "metadata": {},
     "output_type": "execute_result"
    }
   ],
   "source": [
    "# predicting testing set\n",
    "logreg.predict(X_test_new), np.array(y_test_new)"
   ]
  }
 ],
 "metadata": {
  "kernelspec": {
   "display_name": "Python 3 (ipykernel)",
   "language": "python",
   "name": "python3"
  },
  "language_info": {
   "codemirror_mode": {
    "name": "ipython",
    "version": 3
   },
   "file_extension": ".py",
   "mimetype": "text/x-python",
   "name": "python",
   "nbconvert_exporter": "python",
   "pygments_lexer": "ipython3",
   "version": "3.9.16"
  }
 },
 "nbformat": 4,
 "nbformat_minor": 5
}
